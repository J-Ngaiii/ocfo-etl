{
 "cells": [
  {
   "cell_type": "markdown",
   "id": "499cf4c2",
   "metadata": {},
   "source": [
    "# EDA Notebook for exploring ASUC Accounts List Dataset"
   ]
  },
  {
   "cell_type": "code",
   "execution_count": 1,
   "id": "e1ea225b",
   "metadata": {},
   "outputs": [],
   "source": [
    "import pandas as pd\n",
    "import numpy as np\n",
    "from AEOCFO.Transform.Processor import ASUCProcessor"
   ]
  },
  {
   "cell_type": "code",
   "execution_count": 5,
   "id": "e4961395",
   "metadata": {},
   "outputs": [
    {
     "name": "stdout",
     "output_type": "stream",
     "text": [
      "Shape (11993, 1)\n"
     ]
    }
   ],
   "source": [
    "raw = pd.read_csv('experimental_data/FinancialAccountList.csv')\n",
    "print(f\"Shape {raw.shape}\")"
   ]
  },
  {
   "cell_type": "code",
   "execution_count": 6,
   "id": "3dd94d96",
   "metadata": {},
   "outputs": [
    {
     "data": {
      "text/html": [
       "<div>\n",
       "<style scoped>\n",
       "    .dataframe tbody tr th:only-of-type {\n",
       "        vertical-align: middle;\n",
       "    }\n",
       "\n",
       "    .dataframe tbody tr th {\n",
       "        vertical-align: top;\n",
       "    }\n",
       "\n",
       "    .dataframe thead th {\n",
       "        text-align: right;\n",
       "    }\n",
       "</style>\n",
       "<table border=\"1\" class=\"dataframe\">\n",
       "  <thead>\n",
       "    <tr style=\"text-align: right;\">\n",
       "      <th></th>\n",
       "      <th></th>\n",
       "      <th></th>\n",
       "      <th></th>\n",
       "      <th></th>\n",
       "      <th></th>\n",
       "      <th>Financial Account List</th>\n",
       "    </tr>\n",
       "  </thead>\n",
       "  <tbody>\n",
       "    <tr>\n",
       "      <th>External ID</th>\n",
       "      <th>Account Name</th>\n",
       "      <th>Organization Owner</th>\n",
       "      <th>Parent Account</th>\n",
       "      <th>Encumbered Funds</th>\n",
       "      <th>Available Funds</th>\n",
       "      <td>Balance</td>\n",
       "    </tr>\n",
       "    <tr>\n",
       "      <th rowspan=\"4\" valign=\"top\">NaN</th>\n",
       "      <th>ASUC STUDENT SIDE GL</th>\n",
       "      <th>ASUC STUDENT SIDE GL</th>\n",
       "      <th>NaN</th>\n",
       "      <th>$0.00</th>\n",
       "      <th>$0.00</th>\n",
       "      <td>$157443.62</td>\n",
       "    </tr>\n",
       "    <tr>\n",
       "      <th>v* 30-XXXX UNDERGRADUATE ACTIVITIES</th>\n",
       "      <th>LEAD Center Student Organizations</th>\n",
       "      <th>ASUC STUDENT SIDE GL</th>\n",
       "      <th>$0.00</th>\n",
       "      <th>$0.00</th>\n",
       "      <td>$136220.75</td>\n",
       "    </tr>\n",
       "    <tr>\n",
       "      <th>v* 30-34-852-XXXX PUBS - Publications SUMMARY</th>\n",
       "      <th>1 ARCHIVE 30-34 2014-15 and prior</th>\n",
       "      <th>v* 30-XXXX UNDERGRADUATE ACTIVITIES</th>\n",
       "      <th>$0.00</th>\n",
       "      <th>$0.00</th>\n",
       "      <td>$0.00</td>\n",
       "    </tr>\n",
       "    <tr>\n",
       "      <th>v* 30-34-852-8615-XXXX The Academian Times SUMMARY</th>\n",
       "      <th>1 ARCHIVE 30-34 2014-15 and prior</th>\n",
       "      <th>v* 30-34-852-XXXX PUBS - Publications SUMMARY</th>\n",
       "      <th>$0.00</th>\n",
       "      <th>$0.00</th>\n",
       "      <td>$0.00</td>\n",
       "    </tr>\n",
       "  </tbody>\n",
       "</table>\n",
       "</div>"
      ],
      "text/plain": [
       "                                                                                                                                                                                Financial Account List\n",
       "External ID Account Name                                       Organization Owner                Parent Account                                Encumbered Funds Available Funds                Balance\n",
       "NaN         ASUC STUDENT SIDE GL                               ASUC STUDENT SIDE GL              NaN                                           $0.00            $0.00                       $157443.62\n",
       "            v* 30-XXXX UNDERGRADUATE ACTIVITIES                LEAD Center Student Organizations ASUC STUDENT SIDE GL                          $0.00            $0.00                       $136220.75\n",
       "            v* 30-34-852-XXXX PUBS - Publications SUMMARY      1 ARCHIVE 30-34 2014-15 and prior v* 30-XXXX UNDERGRADUATE ACTIVITIES           $0.00            $0.00                            $0.00\n",
       "            v* 30-34-852-8615-XXXX The Academian Times SUMMARY 1 ARCHIVE 30-34 2014-15 and prior v* 30-34-852-XXXX PUBS - Publications SUMMARY $0.00            $0.00                            $0.00"
      ]
     },
     "execution_count": 6,
     "metadata": {},
     "output_type": "execute_result"
    }
   ],
   "source": [
    "raw.head(5)"
   ]
  },
  {
   "cell_type": "markdown",
   "id": "12fe6a66",
   "metadata": {},
   "source": [
    "# Task 1: Build a function that chcecks if an organization is a blue heart club"
   ]
  }
 ],
 "metadata": {
  "kernelspec": {
   "display_name": "asuc_auto_alpha",
   "language": "python",
   "name": "python3"
  },
  "language_info": {
   "codemirror_mode": {
    "name": "ipython",
    "version": 3
   },
   "file_extension": ".py",
   "mimetype": "text/x-python",
   "name": "python",
   "nbconvert_exporter": "python",
   "pygments_lexer": "ipython3",
   "version": "3.11.8"
  }
 },
 "nbformat": 4,
 "nbformat_minor": 5
}
